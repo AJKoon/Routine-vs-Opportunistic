{
 "cells": [
  {
   "cell_type": "code",
   "execution_count": null,
   "metadata": {},
   "outputs": [],
   "source": [
    "# I have leftt the file names and directories as-is to ensure you can see what files were used and when/where.\n",
    "# This is the code for the INDIVIDUAL TRANSACTION file (not netted and aggregated)\n",
    "# The NETTED AND AGGREGATED version differs in that we convert 'Date_t_Start' to datetime, rather than 'Date_t'"
   ]
  },
  {
   "cell_type": "code",
   "execution_count": 14,
   "metadata": {},
   "outputs": [
    {
     "name": "stderr",
     "output_type": "stream",
     "text": [
      "/var/folders/9w/c35bwgqs191104h78_4_9lkw0000gn/T/ipykernel_9620/3254813947.py:6: DtypeWarning: Columns (50,78,79) have mixed types. Specify dtype option on import or set low_memory=False.\n",
      "  df = pd.read_csv(input_file_path)\n"
     ]
    }
   ],
   "source": [
    "import pandas as pd\n",
    "\n",
    "input_file_path = '/Users/aj/Desktop/Routine vs Opportunistic/WIP/ALL RECORDS IGNORE STATUS COLUMN -  Data by Individual Transaction 30day copy.csv'\n",
    "output_file = \"/Users/aj/Desktop/Routine vs Opportunistic/WIP/RvO_NOoptions.csv\"\n",
    "\n",
    "df = pd.read_csv(input_file_path)\n",
    "\n",
    "# Filter out entries where 'Option' column is not equal to 0\n",
    "filtered_df = df[df['Option'] == 0]\n",
    "\n",
    "\n",
    "filtered_df.to_csv(output_file, index=False)\n"
   ]
  },
  {
   "cell_type": "code",
   "execution_count": 15,
   "metadata": {},
   "outputs": [
    {
     "name": "stderr",
     "output_type": "stream",
     "text": [
      "/var/folders/9w/c35bwgqs191104h78_4_9lkw0000gn/T/ipykernel_9620/1187998884.py:4: DtypeWarning: Columns (50,76,77,78,79) have mixed types. Specify dtype option on import or set low_memory=False.\n",
      "  data = pd.read_csv(input_file_path)\n"
     ]
    }
   ],
   "source": [
    "import pandas as pd\n",
    "\n",
    "input_file_path = \"/Users/aj/Desktop/Routine vs Opportunistic/WIP/RvO_NOoptions.csv\"\n",
    "data = pd.read_csv(input_file_path)\n",
    "\n",
    "# Splitting the data based on Transaction_Type\n",
    "buy_data = data[data['Transaction_Type'] == 1]\n",
    "sell_data = data[data['Transaction_Type'] == 2]\n",
    "\n",
    "buy_output_file = '/Users/aj/Desktop/Routine vs Opportunistic/WIP/Buy.csv'\n",
    "sell_output_file = '/Users/aj/Desktop/Routine vs Opportunistic/WIP/Sell.csv'\n",
    "\n",
    "buy_data.to_csv(buy_output_file, index=False)\n",
    "sell_data.to_csv(sell_output_file, index=False)\n"
   ]
  },
  {
   "cell_type": "code",
   "execution_count": 16,
   "metadata": {},
   "outputs": [
    {
     "name": "stderr",
     "output_type": "stream",
     "text": [
      "/var/folders/9w/c35bwgqs191104h78_4_9lkw0000gn/T/ipykernel_9620/4183460853.py:8: DtypeWarning: Columns (50,79) have mixed types. Specify dtype option on import or set low_memory=False.\n",
      "  data = pd.read_csv(file_path)\n"
     ]
    }
   ],
   "source": [
    "# 3 YEAR FUNCTION BUY\n",
    "\n",
    "import pandas as pd\n",
    "\n",
    "# Read the CSV file\n",
    "file_path = '/Users/aj/Desktop/Routine vs Opportunistic/WIP/Buy.csv'\n",
    "output_path = '/Users/aj/Desktop/Routine vs Opportunistic/WIP/RvO_3yrbuy.csv'\n",
    "data = pd.read_csv(file_path)\n",
    "\n",
    "data['Date_t'] = pd.to_datetime(data['Date_t'])\n",
    "\n",
    "data['Year'] = data['Date_t'].dt.year\n",
    "data['Month'] = data['Date_t'].dt.month\n",
    "\n",
    "# Function to determine routine traders\n",
    "def determine_routine_traders(group):\n",
    "    years = group['Year'].values\n",
    "    months = group['Month'].values\n",
    "    routine_flag = [0] * len(group)\n",
    "    for i in range(len(years) - 2):\n",
    "        if (years[i + 1] == years[i] + 1) and (years[i + 2] == years[i] + 2) and (months[i + 1] == months[i]) and (\n",
    "                months[i + 2] == months[i]):\n",
    "            for j in range(i + 3, len(group)):\n",
    "                routine_flag[j] = 1\n",
    "    return pd.Series(routine_flag, index=group.index)\n",
    "\n",
    "# Apply routine classification\n",
    "data['routine_buy_3yr'] = data.groupby('Insider_ID').apply(determine_routine_traders).reset_index(level=0, drop=True)\n",
    "\n",
    "data.to_csv(output_path, index=False)\n"
   ]
  },
  {
   "cell_type": "code",
   "execution_count": 17,
   "metadata": {},
   "outputs": [
    {
     "name": "stderr",
     "output_type": "stream",
     "text": [
      "/var/folders/9w/c35bwgqs191104h78_4_9lkw0000gn/T/ipykernel_9620/2665781961.py:8: DtypeWarning: Columns (50) have mixed types. Specify dtype option on import or set low_memory=False.\n",
      "  data = pd.read_csv(file_path)\n"
     ]
    }
   ],
   "source": [
    "# 3 YEAR FUNCTION SELL\n",
    "\n",
    "import pandas as pd\n",
    "\n",
    "# Read the CSV file\n",
    "file_path = '/Users/aj/Desktop/Routine vs Opportunistic/WIP/Sell.csv'\n",
    "output_path = '/Users/aj/Desktop/Routine vs Opportunistic/WIP/RvO_3yrsell.csv'\n",
    "data = pd.read_csv(file_path)\n",
    "\n",
    "data['Date_t'] = pd.to_datetime(data['Date_t'])\n",
    "\n",
    "data['Year'] = data['Date_t'].dt.year\n",
    "data['Month'] = data['Date_t'].dt.month\n",
    "\n",
    "# Function to determine routine traders\n",
    "def determine_routine_traders(group):\n",
    "    years = group['Year'].values\n",
    "    months = group['Month'].values\n",
    "    routine_flag = [0] * len(group)\n",
    "    for i in range(len(years) - 2):\n",
    "        if (years[i + 1] == years[i] + 1) and (years[i + 2] == years[i] + 2) and (months[i + 1] == months[i]) and (\n",
    "                months[i + 2] == months[i]):\n",
    "            for j in range(i + 3, len(group)):\n",
    "                routine_flag[j] = 1\n",
    "    return pd.Series(routine_flag, index=group.index)\n",
    "\n",
    "# Apply routine classification\n",
    "data['routine_sell_3yr'] = data.groupby('Insider_ID').apply(determine_routine_traders).reset_index(level=0, drop=True)\n",
    "\n",
    "data.to_csv(output_path, index=False)"
   ]
  },
  {
   "cell_type": "code",
   "execution_count": 18,
   "metadata": {},
   "outputs": [
    {
     "name": "stderr",
     "output_type": "stream",
     "text": [
      "/var/folders/9w/c35bwgqs191104h78_4_9lkw0000gn/T/ipykernel_9620/2374227188.py:9: DtypeWarning: Columns (50) have mixed types. Specify dtype option on import or set low_memory=False.\n",
      "  data = pd.read_csv(file_path)\n"
     ]
    }
   ],
   "source": [
    "# 2 YEAR FUNCTION\n",
    "\n",
    "\n",
    "import pandas as pd\n",
    "\n",
    "# Read the CSV file\n",
    "file_path = '/Users/aj/Desktop/Routine vs Opportunistic/WIP/Sell.csv'\n",
    "output_path = '/Users/aj/Desktop/Routine vs Opportunistic/WIP/RvO_2yrsell.csv'\n",
    "data = pd.read_csv(file_path)\n",
    "\n",
    "data['Date_t'] = pd.to_datetime(data['Date_t'])\n",
    "\n",
    "data['Year'] = data['Date_t'].dt.year\n",
    "data['Month'] = data['Date_t'].dt.month\n",
    "\n",
    "# Function to determine routine traders for 2 years\n",
    "def determine_routine_traders_2yr(group):\n",
    "    years = group['Year'].values\n",
    "    months = group['Month'].values\n",
    "    routine_flag = [0] * len(group)\n",
    "    for i in range(len(years) - 1):\n",
    "        if (years[i + 1] == years[i] + 1) and (months[i + 1] == months[i]):\n",
    "            for j in range(i + 2, len(group)):\n",
    "                routine_flag[j] = 1\n",
    "    return pd.Series(routine_flag, index=group.index)\n",
    "\n",
    "# Apply routine classification for 2 years\n",
    "data['routine_sell_2yr'] = data.groupby('Insider_ID').apply(determine_routine_traders_2yr).reset_index(level=0, drop=True)\n",
    "\n",
    "data.to_csv(output_path, index=False)"
   ]
  },
  {
   "cell_type": "code",
   "execution_count": 19,
   "metadata": {},
   "outputs": [
    {
     "name": "stderr",
     "output_type": "stream",
     "text": [
      "/var/folders/9w/c35bwgqs191104h78_4_9lkw0000gn/T/ipykernel_9620/693324173.py:8: DtypeWarning: Columns (50,79) have mixed types. Specify dtype option on import or set low_memory=False.\n",
      "  data = pd.read_csv(file_path)\n"
     ]
    }
   ],
   "source": [
    "# 2 YEAR FUNCTION\n",
    "\n",
    "import pandas as pd\n",
    "\n",
    "# Read the CSV file\n",
    "file_path = '/Users/aj/Desktop/Routine vs Opportunistic/WIP/Buy.csv'\n",
    "output_path = '/Users/aj/Desktop/Routine vs Opportunistic/WIP/RvO_2yrbuy.csv'\n",
    "data = pd.read_csv(file_path)\n",
    "\n",
    "data['Date_t'] = pd.to_datetime(data['Date_t'])\n",
    "\n",
    "data['Year'] = data['Date_t'].dt.year\n",
    "data['Month'] = data['Date_t'].dt.month\n",
    "\n",
    "# Function to determine routine traders for 2 years\n",
    "def determine_routine_traders_2yr(group):\n",
    "    years = group['Year'].values\n",
    "    months = group['Month'].values\n",
    "    routine_flag = [0] * len(group)\n",
    "    for i in range(len(years) - 1):\n",
    "        if (years[i + 1] == years[i] + 1) and (months[i + 1] == months[i]):\n",
    "            for j in range(i + 2, len(group)):\n",
    "                routine_flag[j] = 1\n",
    "    return pd.Series(routine_flag, index=group.index)\n",
    "\n",
    "# Apply routine classification for 2 years\n",
    "data['routine_buy_2yr'] = data.groupby('Insider_ID').apply(determine_routine_traders_2yr).reset_index(level=0, drop=True)\n",
    "\n",
    "data.to_csv(output_path, index=False)"
   ]
  },
  {
   "cell_type": "code",
   "execution_count": 20,
   "metadata": {},
   "outputs": [
    {
     "name": "stderr",
     "output_type": "stream",
     "text": [
      "/var/folders/9w/c35bwgqs191104h78_4_9lkw0000gn/T/ipykernel_9620/1338047687.py:7: DtypeWarning: Columns (50) have mixed types. Specify dtype option on import or set low_memory=False.\n",
      "  sell_data = pd.read_csv(sell_file_path)\n",
      "/var/folders/9w/c35bwgqs191104h78_4_9lkw0000gn/T/ipykernel_9620/1338047687.py:8: DtypeWarning: Columns (50,79) have mixed types. Specify dtype option on import or set low_memory=False.\n",
      "  buy_data = pd.read_csv(buy_file_path)\n"
     ]
    }
   ],
   "source": [
    "import pandas as pd\n",
    "\n",
    "# File paths\n",
    "sell_file_path = '/Users/aj/Desktop/Routine vs Opportunistic/WIP/RvO_3yrsell.csv'\n",
    "buy_file_path = '/Users/aj/Desktop/Routine vs Opportunistic/WIP/RvO_3yrbuy.csv'\n",
    "\n",
    "sell_data = pd.read_csv(sell_file_path)\n",
    "buy_data = pd.read_csv(buy_file_path)\n",
    "\n",
    "# Concatenate the two dataframes\n",
    "combined_data = pd.concat([sell_data, buy_data], ignore_index=True)\n",
    "\n",
    "output_file_path = '/Users/aj/Desktop/Routine vs Opportunistic/WIP/RvO_3yr.csv'\n",
    "\n",
    "combined_data.to_csv(output_file_path, index=False)\n"
   ]
  },
  {
   "cell_type": "code",
   "execution_count": 21,
   "metadata": {},
   "outputs": [
    {
     "name": "stderr",
     "output_type": "stream",
     "text": [
      "/var/folders/9w/c35bwgqs191104h78_4_9lkw0000gn/T/ipykernel_9620/1406049724.py:7: DtypeWarning: Columns (50) have mixed types. Specify dtype option on import or set low_memory=False.\n",
      "  sell_data = pd.read_csv(sell_file_path)\n",
      "/var/folders/9w/c35bwgqs191104h78_4_9lkw0000gn/T/ipykernel_9620/1406049724.py:8: DtypeWarning: Columns (50,79) have mixed types. Specify dtype option on import or set low_memory=False.\n",
      "  buy_data = pd.read_csv(buy_file_path)\n"
     ]
    }
   ],
   "source": [
    "import pandas as pd\n",
    "\n",
    "# File paths\n",
    "buy_file_path = '/Users/aj/Desktop/Routine vs Opportunistic/WIP/RvO_2yrbuy.csv'\n",
    "sell_file_path = '/Users/aj/Desktop/Routine vs Opportunistic/WIP/RvO_2yrsell.csv'\n",
    "\n",
    "sell_data = pd.read_csv(sell_file_path)\n",
    "buy_data = pd.read_csv(buy_file_path)\n",
    "\n",
    "# Concatenate the two dataframes\n",
    "combined_data = pd.concat([sell_data, buy_data], ignore_index=True)\n",
    "\n",
    "output_file_path = '/Users/aj/Desktop/Routine vs Opportunistic/WIP/RvO_2yr.csv'\n",
    "\n",
    "combined_data.to_csv(output_file_path, index=False)\n"
   ]
  },
  {
   "cell_type": "code",
   "execution_count": 22,
   "metadata": {},
   "outputs": [
    {
     "name": "stderr",
     "output_type": "stream",
     "text": [
      "/var/folders/9w/c35bwgqs191104h78_4_9lkw0000gn/T/ipykernel_9620/3362075440.py:7: DtypeWarning: Columns (50,77,78,79) have mixed types. Specify dtype option on import or set low_memory=False.\n",
      "  data_2yr = pd.read_csv(file_2yr_path)\n",
      "/var/folders/9w/c35bwgqs191104h78_4_9lkw0000gn/T/ipykernel_9620/3362075440.py:8: DtypeWarning: Columns (50,77,78,79) have mixed types. Specify dtype option on import or set low_memory=False.\n",
      "  data_3yr = pd.read_csv(file_3yr_path)\n"
     ]
    }
   ],
   "source": [
    "import pandas as pd\n",
    "\n",
    "# Read the files\n",
    "file_2yr_path = '/Users/aj/Desktop/Routine vs Opportunistic/WIP/RvO_2yr.csv'\n",
    "file_3yr_path = '/Users/aj/Desktop/Routine vs Opportunistic/WIP/RvO_3yr.csv'\n",
    "output_path = '/Users/aj/Desktop/Routine vs Opportunistic/WIP/Routine vs Opportunistic INDIVIDUAL TRANSACTION.csv'\n",
    "data_2yr = pd.read_csv(file_2yr_path)\n",
    "data_3yr = pd.read_csv(file_3yr_path)\n",
    "\n",
    "# Merge based on 'Transaction_ID'\n",
    "merged_data = pd.merge(data_2yr, data_3yr[['Transaction_ID']], on='Transaction_ID', how='left')\n",
    "\n",
    "merged_data.to_csv(output_path, index=False)\n"
   ]
  }
 ],
 "metadata": {
  "kernelspec": {
   "display_name": "base",
   "language": "python",
   "name": "python3"
  },
  "language_info": {
   "codemirror_mode": {
    "name": "ipython",
    "version": 3
   },
   "file_extension": ".py",
   "mimetype": "text/x-python",
   "name": "python",
   "nbconvert_exporter": "python",
   "pygments_lexer": "ipython3",
   "version": "3.11.4"
  }
 },
 "nbformat": 4,
 "nbformat_minor": 2
}
